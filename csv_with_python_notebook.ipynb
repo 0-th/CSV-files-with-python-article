{
  "nbformat": 4,
  "nbformat_minor": 0,
  "metadata": {
    "colab": {
      "name": "Copy of csv_article.ipynb",
      "provenance": [],
      "mount_file_id": "1a6yPgI6NlmRkNn7Jf56dYrU0vMoWjG_x",
      "authorship_tag": "ABX9TyP2K+TF4o9LI/Jk9F8UBR4C",
      "include_colab_link": true
    },
    "kernelspec": {
      "name": "python3",
      "display_name": "Python 3"
    },
    "language_info": {
      "name": "python"
    }
  },
  "cells": [
    {
      "cell_type": "markdown",
      "metadata": {
        "id": "view-in-github",
        "colab_type": "text"
      },
      "source": [
        "<a href=\"https://colab.research.google.com/github/0-th/CSV-files-with-python-article/blob/main/csv_with_python_notebook.ipynb\" target=\"_parent\"><img src=\"https://colab.research.google.com/assets/colab-badge.svg\" alt=\"Open In Colab\"/></a>"
      ]
    },
    {
      "cell_type": "markdown",
      "metadata": {
        "id": "yjxPT2_Mpa9u"
      },
      "source": [
        "# Read, Parse and Write CSV Files with Python."
      ]
    },
    {
      "cell_type": "markdown",
      "metadata": {
        "id": "542EWVcyOa-J"
      },
      "source": [
        "## Reading CSV files"
      ]
    },
    {
      "cell_type": "code",
      "metadata": {
        "id": "IeWIQn5jU_1L",
        "colab": {
          "base_uri": "https://localhost:8080/"
        },
        "collapsed": true,
        "outputId": "765ccbd3-54c4-47d9-e9c8-835582d912a9"
      },
      "source": [
        "# import csv module\n",
        "import csv\n",
        "\n",
        "# open the csv file with a context manager\n",
        "with open('/content/drive/MyDrive/Colab Notebooks/articles/records.csv', 'r') as csv_file:\n",
        "  \n",
        "  # using the csv reader function\n",
        "  csv_reader = csv.reader(csv_file)\n",
        "\n",
        "  # loop through the csv_reader iterable object\n",
        "  for line in csv_reader:\n",
        "    # print each line in the reader object\n",
        "    print(line)"
      ],
      "execution_count": 2,
      "outputs": [
        {
          "output_type": "stream",
          "name": "stdout",
          "text": [
            "['first_name', 'last_name', 'email']\n",
            "['John', 'Doe', 'john-doe@bogusemail.com']\n",
            "['Mary', 'Smith-Robinson', 'maryjacobs@bogusemail.com']\n",
            "['Dave', 'Smith', 'davesmith@bogusemail.com']\n",
            "['Jane', 'Stuart', 'janestuart@bogusemail.com']\n",
            "['Tom', 'Wright', 'tomwright@bogusemail.com']\n",
            "['Steve', 'Robinson', 'steverobinson@bogusemail.com']\n",
            "['Nicole', 'Jacobs', 'nicolejacobs@bogusemail.com']\n",
            "['Jane', 'Wright', 'janewright@bogusemail.com']\n",
            "['Jane', 'Doe', 'janedoe@bogusemail.com']\n",
            "['Kurt', 'Wright', 'kurtwright@bogusemail.com']\n",
            "['Kurt', 'Robinson', 'kurtrobinson@bogusemail.com']\n",
            "['Jane', 'Jenkins', 'janejenkins@bogusemail.com']\n",
            "['Neil', 'Robinson', 'neilrobinson@bogusemail.com']\n",
            "['Tom', 'Patterson', 'tompatterson@bogusemail.com']\n",
            "['Sam', 'Jenkins', 'samjenkins@bogusemail.com']\n",
            "['Steve', 'Stuart', 'stevestuart@bogusemail.com']\n",
            "['Maggie', 'Patterson', 'maggiepatterson@bogusemail.com']\n",
            "['Maggie', 'Stuart', 'maggiestuart@bogusemail.com']\n",
            "['Jane', 'Doe', 'janedoe@bogusemail.com']\n",
            "['Steve', 'Patterson', 'stevepatterson@bogusemail.com']\n",
            "['Dave', 'Smith', 'davesmith@bogusemail.com']\n",
            "['Sam', 'Wilks', 'samwilks@bogusemail.com']\n",
            "['Kurt', 'Jefferson', 'kurtjefferson@bogusemail.com']\n",
            "['Sam', 'Stuart', 'samstuart@bogusemail.com']\n",
            "['Jane', 'Stuart', 'janestuart@bogusemail.com']\n",
            "['Dave', 'Davis', 'davedavis@bogusemail.com']\n",
            "['Sam', 'Patterson', 'sampatterson@bogusemail.com']\n",
            "['Tom', 'Jefferson', 'tomjefferson@bogusemail.com']\n",
            "['Jane', 'Stuart', 'janestuart@bogusemail.com']\n",
            "['Maggie', 'Jefferson', 'maggiejefferson@bogusemail.com']\n",
            "['Mary', 'Wilks', 'marywilks@bogusemail.com']\n",
            "['Neil', 'Patterson', 'neilpatterson@bogusemail.com']\n",
            "['Corey', 'Davis', 'coreydavis@bogusemail.com']\n",
            "['Steve', 'Jacobs', 'stevejacobs@bogusemail.com']\n",
            "['Jane', 'Jenkins', 'janejenkins@bogusemail.com']\n",
            "['John', 'Jacobs', 'johnjacobs@bogusemail.com']\n",
            "['Neil', 'Smith', 'neilsmith@bogusemail.com']\n",
            "['Corey', 'Wilks', 'coreywilks@bogusemail.com']\n",
            "['Corey', 'Smith', 'coreysmith@bogusemail.com']\n",
            "['Mary', 'Patterson', 'marypatterson@bogusemail.com']\n",
            "['Jane', 'Stuart', 'janestuart@bogusemail.com']\n",
            "['Travis', 'Arnold', 'travisarnold@bogusemail.com']\n",
            "['John', 'Robinson', 'johnrobinson@bogusemail.com']\n",
            "['Travis', 'Arnold', 'travisarnold@bogusemail.com']\n"
          ]
        }
      ]
    },
    {
      "cell_type": "code",
      "metadata": {
        "id": "hlkR3OC3sZHa",
        "colab": {
          "base_uri": "https://localhost:8080/"
        },
        "collapsed": true,
        "outputId": "cd70e7a4-c454-4488-d147-18583fe789fe"
      },
      "source": [
        "# open file with a context manager\n",
        "with open('/content/drive/MyDrive/Colab Notebooks/articles/records.csv', 'r') as csv_file:\n",
        "  # create reader object\n",
        "  csv_reader = csv.reader(csv_file)\n",
        "\n",
        "  # loop through reader object csv_reader\n",
        "  for line in csv_reader:\n",
        "    # print the field values under the field header email\n",
        "    print(line[2])"
      ],
      "execution_count": 3,
      "outputs": [
        {
          "output_type": "stream",
          "name": "stdout",
          "text": [
            "email\n",
            "john-doe@bogusemail.com\n",
            "maryjacobs@bogusemail.com\n",
            "davesmith@bogusemail.com\n",
            "janestuart@bogusemail.com\n",
            "tomwright@bogusemail.com\n",
            "steverobinson@bogusemail.com\n",
            "nicolejacobs@bogusemail.com\n",
            "janewright@bogusemail.com\n",
            "janedoe@bogusemail.com\n",
            "kurtwright@bogusemail.com\n",
            "kurtrobinson@bogusemail.com\n",
            "janejenkins@bogusemail.com\n",
            "neilrobinson@bogusemail.com\n",
            "tompatterson@bogusemail.com\n",
            "samjenkins@bogusemail.com\n",
            "stevestuart@bogusemail.com\n",
            "maggiepatterson@bogusemail.com\n",
            "maggiestuart@bogusemail.com\n",
            "janedoe@bogusemail.com\n",
            "stevepatterson@bogusemail.com\n",
            "davesmith@bogusemail.com\n",
            "samwilks@bogusemail.com\n",
            "kurtjefferson@bogusemail.com\n",
            "samstuart@bogusemail.com\n",
            "janestuart@bogusemail.com\n",
            "davedavis@bogusemail.com\n",
            "sampatterson@bogusemail.com\n",
            "tomjefferson@bogusemail.com\n",
            "janestuart@bogusemail.com\n",
            "maggiejefferson@bogusemail.com\n",
            "marywilks@bogusemail.com\n",
            "neilpatterson@bogusemail.com\n",
            "coreydavis@bogusemail.com\n",
            "stevejacobs@bogusemail.com\n",
            "janejenkins@bogusemail.com\n",
            "johnjacobs@bogusemail.com\n",
            "neilsmith@bogusemail.com\n",
            "coreywilks@bogusemail.com\n",
            "coreysmith@bogusemail.com\n",
            "marypatterson@bogusemail.com\n",
            "janestuart@bogusemail.com\n",
            "travisarnold@bogusemail.com\n",
            "johnrobinson@bogusemail.com\n",
            "travisarnold@bogusemail.com\n"
          ]
        }
      ]
    },
    {
      "cell_type": "markdown",
      "metadata": {
        "id": "qh4aU1Wu0OC0"
      },
      "source": [
        "## Field names"
      ]
    },
    {
      "cell_type": "code",
      "metadata": {
        "colab": {
          "base_uri": "https://localhost:8080/"
        },
        "id": "yS9YblKo1DKz",
        "outputId": "77a5c61b-6c1b-427c-bec4-925894b9e9ea"
      },
      "source": [
        "# open file with a context manager\n",
        "with open('/content/drive/MyDrive/Colab Notebooks/articles/records.csv', 'r') as csv_file:\n",
        "  # create reader object\n",
        "  csv_reader = csv.reader(csv_file)\n",
        "\n",
        "  # iterate through the csv_reader once\n",
        "  print(f'Field names: {next(csv_reader)}')"
      ],
      "execution_count": 4,
      "outputs": [
        {
          "output_type": "stream",
          "name": "stdout",
          "text": [
            "Field names: ['first_name', 'last_name', 'email']\n"
          ]
        }
      ]
    },
    {
      "cell_type": "markdown",
      "metadata": {
        "id": "-xe4REuW4k9F"
      },
      "source": [
        "## Writing to CSV files"
      ]
    },
    {
      "cell_type": "code",
      "metadata": {
        "id": "hQQXklz9PR8k"
      },
      "source": [
        "# open the file to read or get comma separated values or data from\n",
        "with open('/content/drive/MyDrive/Colab Notebooks/articles/records.csv', 'r') as csv_file:\n",
        "  # create reader object\n",
        "  csv_reader = csv.reader(csv_file)\n",
        "\n",
        "  # open/create the file to write comma separated values to\n",
        "  with open('new_records1.csv', 'w') as new_csv_file:\n",
        "    # create writer object\n",
        "    csv_writer = csv.writer(new_csv_file, delimiter='-')\n",
        "\n",
        "    # iterate through the comma separated values of the initially opened file through the reader object\n",
        "    for csv_lines in csv_reader:\n",
        "      # write these values to the new file\n",
        "      csv_writer.writerow(csv_lines)"
      ],
      "execution_count": 7,
      "outputs": []
    },
    {
      "cell_type": "markdown",
      "metadata": {
        "id": "W7u6fkWaYz8_"
      },
      "source": [
        "## Using Dictionary readers and writers"
      ]
    },
    {
      "cell_type": "markdown",
      "metadata": {
        "id": "AtszQh5tA-2L"
      },
      "source": [
        "### Reading CSV files with the `DictReader()`"
      ]
    },
    {
      "cell_type": "code",
      "metadata": {
        "id": "flhTWQO15BK_",
        "colab": {
          "base_uri": "https://localhost:8080/"
        },
        "collapsed": true,
        "outputId": "38227c45-bb2a-432b-a63f-a7daa3f4f7fb"
      },
      "source": [
        "# open the file to be read in a context manager\n",
        "with open('/content/drive/MyDrive/Colab Notebooks/articles/records.csv', 'r') as csv_file:\n",
        "  \n",
        "  # create a DictReader object using the DictReader function\n",
        "  csv_dict_reader = csv.DictReader(csv_file)\n",
        "\n",
        "  # iterate through DictReader object\n",
        "  for line in csv_dict_reader:\n",
        "    # print each line in the CSV file as an OrderedDict object\n",
        "    print(line)"
      ],
      "execution_count": 8,
      "outputs": [
        {
          "output_type": "stream",
          "name": "stdout",
          "text": [
            "OrderedDict([('first_name', 'John'), ('last_name', 'Doe'), ('email', 'john-doe@bogusemail.com')])\n",
            "OrderedDict([('first_name', 'Mary'), ('last_name', 'Smith-Robinson'), ('email', 'maryjacobs@bogusemail.com')])\n",
            "OrderedDict([('first_name', 'Dave'), ('last_name', 'Smith'), ('email', 'davesmith@bogusemail.com')])\n",
            "OrderedDict([('first_name', 'Jane'), ('last_name', 'Stuart'), ('email', 'janestuart@bogusemail.com')])\n",
            "OrderedDict([('first_name', 'Tom'), ('last_name', 'Wright'), ('email', 'tomwright@bogusemail.com')])\n",
            "OrderedDict([('first_name', 'Steve'), ('last_name', 'Robinson'), ('email', 'steverobinson@bogusemail.com')])\n",
            "OrderedDict([('first_name', 'Nicole'), ('last_name', 'Jacobs'), ('email', 'nicolejacobs@bogusemail.com')])\n",
            "OrderedDict([('first_name', 'Jane'), ('last_name', 'Wright'), ('email', 'janewright@bogusemail.com')])\n",
            "OrderedDict([('first_name', 'Jane'), ('last_name', 'Doe'), ('email', 'janedoe@bogusemail.com')])\n",
            "OrderedDict([('first_name', 'Kurt'), ('last_name', 'Wright'), ('email', 'kurtwright@bogusemail.com')])\n",
            "OrderedDict([('first_name', 'Kurt'), ('last_name', 'Robinson'), ('email', 'kurtrobinson@bogusemail.com')])\n",
            "OrderedDict([('first_name', 'Jane'), ('last_name', 'Jenkins'), ('email', 'janejenkins@bogusemail.com')])\n",
            "OrderedDict([('first_name', 'Neil'), ('last_name', 'Robinson'), ('email', 'neilrobinson@bogusemail.com')])\n",
            "OrderedDict([('first_name', 'Tom'), ('last_name', 'Patterson'), ('email', 'tompatterson@bogusemail.com')])\n",
            "OrderedDict([('first_name', 'Sam'), ('last_name', 'Jenkins'), ('email', 'samjenkins@bogusemail.com')])\n",
            "OrderedDict([('first_name', 'Steve'), ('last_name', 'Stuart'), ('email', 'stevestuart@bogusemail.com')])\n",
            "OrderedDict([('first_name', 'Maggie'), ('last_name', 'Patterson'), ('email', 'maggiepatterson@bogusemail.com')])\n",
            "OrderedDict([('first_name', 'Maggie'), ('last_name', 'Stuart'), ('email', 'maggiestuart@bogusemail.com')])\n",
            "OrderedDict([('first_name', 'Jane'), ('last_name', 'Doe'), ('email', 'janedoe@bogusemail.com')])\n",
            "OrderedDict([('first_name', 'Steve'), ('last_name', 'Patterson'), ('email', 'stevepatterson@bogusemail.com')])\n",
            "OrderedDict([('first_name', 'Dave'), ('last_name', 'Smith'), ('email', 'davesmith@bogusemail.com')])\n",
            "OrderedDict([('first_name', 'Sam'), ('last_name', 'Wilks'), ('email', 'samwilks@bogusemail.com')])\n",
            "OrderedDict([('first_name', 'Kurt'), ('last_name', 'Jefferson'), ('email', 'kurtjefferson@bogusemail.com')])\n",
            "OrderedDict([('first_name', 'Sam'), ('last_name', 'Stuart'), ('email', 'samstuart@bogusemail.com')])\n",
            "OrderedDict([('first_name', 'Jane'), ('last_name', 'Stuart'), ('email', 'janestuart@bogusemail.com')])\n",
            "OrderedDict([('first_name', 'Dave'), ('last_name', 'Davis'), ('email', 'davedavis@bogusemail.com')])\n",
            "OrderedDict([('first_name', 'Sam'), ('last_name', 'Patterson'), ('email', 'sampatterson@bogusemail.com')])\n",
            "OrderedDict([('first_name', 'Tom'), ('last_name', 'Jefferson'), ('email', 'tomjefferson@bogusemail.com')])\n",
            "OrderedDict([('first_name', 'Jane'), ('last_name', 'Stuart'), ('email', 'janestuart@bogusemail.com')])\n",
            "OrderedDict([('first_name', 'Maggie'), ('last_name', 'Jefferson'), ('email', 'maggiejefferson@bogusemail.com')])\n",
            "OrderedDict([('first_name', 'Mary'), ('last_name', 'Wilks'), ('email', 'marywilks@bogusemail.com')])\n",
            "OrderedDict([('first_name', 'Neil'), ('last_name', 'Patterson'), ('email', 'neilpatterson@bogusemail.com')])\n",
            "OrderedDict([('first_name', 'Corey'), ('last_name', 'Davis'), ('email', 'coreydavis@bogusemail.com')])\n",
            "OrderedDict([('first_name', 'Steve'), ('last_name', 'Jacobs'), ('email', 'stevejacobs@bogusemail.com')])\n",
            "OrderedDict([('first_name', 'Jane'), ('last_name', 'Jenkins'), ('email', 'janejenkins@bogusemail.com')])\n",
            "OrderedDict([('first_name', 'John'), ('last_name', 'Jacobs'), ('email', 'johnjacobs@bogusemail.com')])\n",
            "OrderedDict([('first_name', 'Neil'), ('last_name', 'Smith'), ('email', 'neilsmith@bogusemail.com')])\n",
            "OrderedDict([('first_name', 'Corey'), ('last_name', 'Wilks'), ('email', 'coreywilks@bogusemail.com')])\n",
            "OrderedDict([('first_name', 'Corey'), ('last_name', 'Smith'), ('email', 'coreysmith@bogusemail.com')])\n",
            "OrderedDict([('first_name', 'Mary'), ('last_name', 'Patterson'), ('email', 'marypatterson@bogusemail.com')])\n",
            "OrderedDict([('first_name', 'Jane'), ('last_name', 'Stuart'), ('email', 'janestuart@bogusemail.com')])\n",
            "OrderedDict([('first_name', 'Travis'), ('last_name', 'Arnold'), ('email', 'travisarnold@bogusemail.com')])\n",
            "OrderedDict([('first_name', 'John'), ('last_name', 'Robinson'), ('email', 'johnrobinson@bogusemail.com')])\n",
            "OrderedDict([('first_name', 'Travis'), ('last_name', 'Arnold'), ('email', 'travisarnold@bogusemail.com')])\n"
          ]
        }
      ]
    },
    {
      "cell_type": "code",
      "metadata": {
        "id": "E28KUjHMfEKL",
        "colab": {
          "base_uri": "https://localhost:8080/"
        },
        "collapsed": true,
        "outputId": "272bfcf5-b8a9-4d18-c267-a79c93b42e0e"
      },
      "source": [
        "# open CSV file in a context manager\n",
        "with open('/content/drive/MyDrive/Colab Notebooks/articles/records.csv', 'r') as csv_file:\n",
        "\n",
        "  # create a DictReader object\n",
        "  csv_dict_reader = csv.DictReader(csv_file)\n",
        "\n",
        "  # iterate through DictReader object\n",
        "  for line in csv_dict_reader:\n",
        "    # get field values for the email field only\n",
        "    print(line['email'])"
      ],
      "execution_count": null,
      "outputs": [
        {
          "output_type": "stream",
          "name": "stdout",
          "text": [
            "john-doe@bogusemail.com\n",
            "maryjacobs@bogusemail.com\n",
            "davesmith@bogusemail.com\n",
            "janestuart@bogusemail.com\n",
            "tomwright@bogusemail.com\n",
            "steverobinson@bogusemail.com\n",
            "nicolejacobs@bogusemail.com\n",
            "janewright@bogusemail.com\n",
            "janedoe@bogusemail.com\n",
            "kurtwright@bogusemail.com\n",
            "kurtrobinson@bogusemail.com\n",
            "janejenkins@bogusemail.com\n",
            "neilrobinson@bogusemail.com\n",
            "tompatterson@bogusemail.com\n",
            "samjenkins@bogusemail.com\n",
            "stevestuart@bogusemail.com\n",
            "maggiepatterson@bogusemail.com\n",
            "maggiestuart@bogusemail.com\n",
            "janedoe@bogusemail.com\n",
            "stevepatterson@bogusemail.com\n",
            "davesmith@bogusemail.com\n",
            "samwilks@bogusemail.com\n",
            "kurtjefferson@bogusemail.com\n",
            "samstuart@bogusemail.com\n",
            "janestuart@bogusemail.com\n",
            "davedavis@bogusemail.com\n",
            "sampatterson@bogusemail.com\n",
            "tomjefferson@bogusemail.com\n",
            "janestuart@bogusemail.com\n",
            "maggiejefferson@bogusemail.com\n",
            "marywilks@bogusemail.com\n",
            "neilpatterson@bogusemail.com\n",
            "coreydavis@bogusemail.com\n",
            "stevejacobs@bogusemail.com\n",
            "janejenkins@bogusemail.com\n",
            "johnjacobs@bogusemail.com\n",
            "neilsmith@bogusemail.com\n",
            "coreywilks@bogusemail.com\n",
            "coreysmith@bogusemail.com\n",
            "marypatterson@bogusemail.com\n",
            "janestuart@bogusemail.com\n",
            "travisarnold@bogusemail.com\n",
            "johnrobinson@bogusemail.com\n",
            "travisarnold@bogusemail.com\n"
          ]
        }
      ]
    },
    {
      "cell_type": "markdown",
      "metadata": {
        "id": "z6hpjq2FBP27"
      },
      "source": [
        "### Writing to CSV files using the `DictWriter()`"
      ]
    },
    {
      "cell_type": "code",
      "metadata": {
        "id": "lFWnb2JVBuv2"
      },
      "source": [
        "# open CSV file to read comma separated values from it\n",
        "with open('/content/drive/MyDrive/Colab Notebooks/articles/records.csv', 'r') as csv_file:\n",
        "  # create DictReader object using the DictReader function\n",
        "  csv_dict_reader = csv.DictReader(csv_file)\n",
        "  \n",
        "  # open new CSV file to write comma separated values into it\n",
        "  with open('new_records2.csv', 'w') as new_csv_file:\n",
        "\n",
        "    # create a list of the field names or headers of the field values that would be written to the file\n",
        "    field_names = ['first_name', 'last_name', 'email']\n",
        "    # create a DictWriter object using the DictWriter() function.\n",
        "    # assign the field_names list above to the fieldnames parameter of the function\n",
        "    # pass a tab character as the delimiting character\n",
        "    csv_dict_writer = csv.DictWriter(new_csv_file, fieldnames=field_names, delimiter='\\t')\n",
        "\n",
        "    # write the field header into the CSV file\n",
        "    csv_dict_writer.writeheader()\n",
        "    \n",
        "    # iterate through the values read from the previous file\n",
        "    for line in csv_dict_reader:\n",
        "      # write the comma separated values to the new CSV file\n",
        "      csv_dict_writer.writerow(line)"
      ],
      "execution_count": 10,
      "outputs": []
    }
  ]
}